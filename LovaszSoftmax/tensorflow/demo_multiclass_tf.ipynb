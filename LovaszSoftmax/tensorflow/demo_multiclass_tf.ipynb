{
 "cells": [
  {
   "cell_type": "markdown",
   "metadata": {},
   "source": [
    "# Multiclass segmentation with the Lovász-Softmax\n",
    "## Tensorflow version, see PyTorch version for more details & use in training"
   ]
  },
  {
   "cell_type": "code",
   "execution_count": 1,
   "metadata": {},
   "outputs": [],
   "source": [
    "%load_ext autoreload\n",
    "%autoreload 2"
   ]
  },
  {
   "cell_type": "code",
   "execution_count": 2,
   "metadata": {},
   "outputs": [],
   "source": [
    "from __future__ import division, print_function"
   ]
  },
  {
   "cell_type": "code",
   "execution_count": 3,
   "metadata": {},
   "outputs": [],
   "source": [
    "import warnings\n",
    "warnings.filterwarnings('ignore')"
   ]
  },
  {
   "cell_type": "code",
   "execution_count": 4,
   "metadata": {},
   "outputs": [],
   "source": [
    "import tensorflow as tf"
   ]
  },
  {
   "cell_type": "code",
   "execution_count": 5,
   "metadata": {},
   "outputs": [],
   "source": [
    "import lovasz_losses_tf as L"
   ]
  },
  {
   "cell_type": "code",
   "execution_count": 6,
   "metadata": {},
   "outputs": [],
   "source": [
    "import numpy as np\n",
    "import matplotlib.pyplot as plt\n",
    "%matplotlib inline"
   ]
  },
  {
   "cell_type": "code",
   "execution_count": 7,
   "metadata": {},
   "outputs": [],
   "source": [
    "# add parent path to pythonpath to import demo_utils\n",
    "import sys\n",
    "sys.path.append('../demo_helpers')\n",
    "from demo_utils import pil_grid, dummy_triangles, printoptions\n",
    "from demo_utils_tf import define_scope"
   ]
  },
  {
   "cell_type": "code",
   "execution_count": 8,
   "metadata": {},
   "outputs": [],
   "source": [
    "# add pytorch folder to path for comparison\n",
    "sys.path.append('../pytorch')\n",
    "import lovasz_losses as L_pytorch"
   ]
  },
  {
   "cell_type": "markdown",
   "metadata": {},
   "source": [
    "## Batch of 2 random images with classes [0, 1, 2] and void (255)"
   ]
  },
  {
   "cell_type": "markdown",
   "metadata": {},
   "source": [
    "### Labels"
   ]
  },
  {
   "cell_type": "code",
   "execution_count": 9,
   "metadata": {},
   "outputs": [
    {
     "data": {
      "image/png": "[encoded data removed]",
      "text/plain": [
       "<PIL.Image.Image image mode=RGB size=402x202 at 0x7F9DFE3A4710>"
      ]
     },
     "execution_count": 9,
     "metadata": {},
     "output_type": "execute_result"
    }
   ],
   "source": [
    "np.random.seed(18)\n",
    "IGNORE = 255\n",
    "C = 3\n",
    "B = 2\n",
    "H = 200\n",
    "labels_ = [dummy_triangles(H, [0, 255, 1, 2]) for b in range(B)]\n",
    "labels = np.stack(map(np.array, labels_)).astype(np.uint8)\n",
    "pil_grid(labels_, 5, margin=1)"
   ]
  },
  {
   "cell_type": "markdown",
   "metadata": {},
   "source": [
    "### Features"
   ]
  },
  {
   "cell_type": "code",
   "execution_count": 10,
   "metadata": {},
   "outputs": [],
   "source": [
    "np.random.seed(57)\n",
    "B, H, W = labels.shape\n",
    "labels_ = labels.copy()\n",
    "labels_[labels_ == 255] = np.random.randint(C, size=labels_.shape)[labels_ == 255] # random feats for void\n",
    "labels_1hot = np.zeros((B, C, H, W))\n",
    "for (b, h, w), c in np.ndenumerate(labels_):\n",
    "    labels_1hot[b, c, h, w] = 1"
   ]
  },
  {
   "cell_type": "code",
   "execution_count": 11,
   "metadata": {},
   "outputs": [],
   "source": [
    "feats = labels_1hot.copy()\n",
    "feats += np.random.normal(0, 2, size=feats.shape)"
   ]
  },
  {
   "cell_type": "markdown",
   "metadata": {},
   "source": [
    "## Model"
   ]
  },
  {
   "cell_type": "markdown",
   "metadata": {},
   "source": [
    "### PyTorch reference"
   ]
  },
  {
   "cell_type": "code",
   "execution_count": 12,
   "metadata": {},
   "outputs": [],
   "source": [
    "import torch\n",
    "from torch.autograd import Variable\n",
    "import torch.nn.functional as F\n",
    "from torch.optim import Adam\n",
    "from torch import nn\n",
    "import lovasz_losses as L_pytorch\n",
    "\n",
    "class ModelPytorch(nn.Module):\n",
    "    def __init__(self):\n",
    "        super(ModelPytorch, self).__init__()\n",
    "        self.conv = nn.Conv2d(C, C, 3, padding=1)\n",
    "        \n",
    "    def forward(self, x):\n",
    "        return x + self.conv(x)\n",
    "\n",
    "m_torch = ModelPytorch().cuda()\n",
    "out = m_torch(Variable(torch.from_numpy(feats.astype(np.float32)).cuda()))\n",
    "out = F.softmax(out)\n",
    "loss_torch = L_pytorch.lovasz_softmax(out, torch.from_numpy(labels).cuda(),\n",
    "                                      only_present=True, ignore=IGNORE, per_image=False)"
   ]
  },
  {
   "cell_type": "code",
   "execution_count": 13,
   "metadata": {},
   "outputs": [
    {
     "name": "stdout",
     "output_type": "stream",
     "text": [
      "[[0.4722 0.222  0.6203 0.0397 0.9062 0.0933 0.099  0.8619 0.1315 0.6689]\n",
      " [0.4159 0.8189 0.7507 0.1037 0.2848 0.0378 0.4918 0.9708 0.3758 0.2633]\n",
      " [0.9627 0.0827 0.0006 0.42   0.1284 0.9136 0.9665 0.0449 0.3112 0.9473]\n",
      " [0.1471 0.7988 0.4883 0.6556 0.0008 0.9395 0.0004 0.0186 0.9596 0.9116]\n",
      " [0.2837 0.2636 0.085  0.5021 0.9866 0.9922 0.0976 0.1139 0.059  0.2679]\n",
      " [0.0837 0.0062 0.9505 0.8732 0.6125 0.2149 0.0204 0.0632 0.8465 0.9902]\n",
      " [0.0984 0.1766 0.9628 0.3444 0.0366 0.9338 0.3781 0.6246 0.4485 0.6473]\n",
      " [0.1511 0.8784 0.0405 0.0606 0.7757 0.9289 0.2071 0.0471 0.9766 0.5254]\n",
      " [0.9081 0.8976 0.0018 0.9706 0.9061 0.5546 0.2858 0.8041 0.9759 0.3486]\n",
      " [0.0928 0.4608 0.237  0.9437 0.7446 0.2623 0.1667 0.0097 0.206  0.9204]]\n"
     ]
    }
   ],
   "source": [
    "with printoptions(precision=4, suppress=True):\n",
    "    print(out[0, 0, :10, :10].data.cpu().numpy())"
   ]
  },
  {
   "cell_type": "code",
   "execution_count": 15,
   "metadata": {},
   "outputs": [
    {
     "data": {
      "text/plain": [
       "0.7759113311767578"
      ]
     },
     "execution_count": 15,
     "metadata": {},
     "output_type": "execute_result"
    }
   ],
   "source": [
    "loss_torch.data.cpu().item()"
   ]
  },
  {
   "cell_type": "markdown",
   "metadata": {},
   "source": [
    "#### small gradient check"
   ]
  },
  {
   "cell_type": "code",
   "execution_count": 16,
   "metadata": {},
   "outputs": [],
   "source": [
    "loss_torch.backward()"
   ]
  },
  {
   "cell_type": "code",
   "execution_count": 17,
   "metadata": {},
   "outputs": [
    {
     "data": {
      "text/plain": [
       "array([-0.04676518,  0.02505459,  0.02171059], dtype=float32)"
      ]
     },
     "execution_count": 17,
     "metadata": {},
     "output_type": "execute_result"
    }
   ],
   "source": [
    "m_torch.conv.bias.grad.data.cpu().numpy()"
   ]
  },
  {
   "cell_type": "markdown",
   "metadata": {},
   "source": [
    "### Tensorflow model definition"
   ]
  },
  {
   "cell_type": "code",
   "execution_count": 18,
   "metadata": {},
   "outputs": [],
   "source": [
    "class Model:\n",
    "    '''\n",
    "    Simple linear model\n",
    "    '''\n",
    "    \n",
    "    def __init__(self, feats):\n",
    "        self.feats = feats\n",
    "        self.scores\n",
    "        self.predict\n",
    "\n",
    "    @define_scope\n",
    "    def scores(self):\n",
    "        x = self.feats\n",
    "        # replicate pytorch initialization\n",
    "        init_weight = m_torch.conv.weight.data.cpu().numpy().transpose((2, 3, 1, 0))\n",
    "        init_bias = m_torch.conv.bias.data.cpu().numpy()\n",
    "        out = tf.nn.conv2d(x, tf.Variable(init_weight), strides=[1, 1, 1, 1], padding=\"SAME\")\n",
    "        out = tf.nn.bias_add(out, tf.Variable(init_bias))\n",
    "        return x + out\n",
    "    \n",
    "    @define_scope\n",
    "    def probas(self):\n",
    "        return tf.nn.softmax(self.scores, 3)\n",
    "    \n",
    "    @define_scope\n",
    "    def predict(self):\n",
    "        return tf.argmax(self.scores, 3)"
   ]
  },
  {
   "cell_type": "code",
   "execution_count": 19,
   "metadata": {},
   "outputs": [],
   "source": [
    "sess = tf.InteractiveSession()"
   ]
  },
  {
   "cell_type": "code",
   "execution_count": 20,
   "metadata": {},
   "outputs": [],
   "source": [
    "labels_tf = tf.placeholder(np.int64, shape=(None, H, W), name='labels')\n",
    "feats_tf = tf.placeholder(np.float32, shape=(None, H, W, C), name='features')\n",
    "\n",
    "feed_dict = {labels_tf: labels, \n",
    "             feats_tf: feats.transpose(0, 2, 3, 1)}"
   ]
  },
  {
   "cell_type": "code",
   "execution_count": 21,
   "metadata": {},
   "outputs": [],
   "source": [
    "m = Model(feats_tf)"
   ]
  },
  {
   "cell_type": "code",
   "execution_count": 22,
   "metadata": {},
   "outputs": [],
   "source": [
    "sess.run(tf.global_variables_initializer())"
   ]
  },
  {
   "cell_type": "code",
   "execution_count": 24,
   "metadata": {},
   "outputs": [],
   "source": [
    "loss = L.lovasz_softmax(m.probas, labels_tf,\n",
    "                        ignore=IGNORE, per_image=False)"
   ]
  },
  {
   "cell_type": "code",
   "execution_count": 25,
   "metadata": {},
   "outputs": [
    {
     "data": {
      "text/plain": [
       "(2, 200, 200, 3)"
      ]
     },
     "execution_count": 25,
     "metadata": {},
     "output_type": "execute_result"
    }
   ],
   "source": [
    "m.probas.eval(feed_dict).shape"
   ]
  },
  {
   "cell_type": "code",
   "execution_count": 26,
   "metadata": {},
   "outputs": [
    {
     "name": "stdout",
     "output_type": "stream",
     "text": [
      "[[0.4722 0.222  0.6203 0.0397 0.9062 0.0933 0.099  0.8619 0.1315 0.6689]\n",
      " [0.4159 0.8189 0.7507 0.1037 0.2848 0.0378 0.4918 0.9708 0.3758 0.2633]\n",
      " [0.9627 0.0827 0.0006 0.42   0.1284 0.9136 0.9665 0.0449 0.3112 0.9473]\n",
      " [0.1471 0.7988 0.4883 0.6556 0.0008 0.9395 0.0004 0.0186 0.9596 0.9116]\n",
      " [0.2837 0.2636 0.085  0.5021 0.9866 0.9922 0.0976 0.1139 0.059  0.2679]\n",
      " [0.0837 0.0062 0.9505 0.8732 0.6125 0.2149 0.0204 0.0632 0.8465 0.9902]\n",
      " [0.0984 0.1766 0.9628 0.3444 0.0366 0.9338 0.3781 0.6246 0.4485 0.6473]\n",
      " [0.1511 0.8784 0.0405 0.0606 0.7757 0.9289 0.2071 0.0471 0.9766 0.5254]\n",
      " [0.9081 0.8976 0.0018 0.9706 0.9061 0.5546 0.2858 0.8041 0.9759 0.3486]\n",
      " [0.0928 0.4608 0.237  0.9437 0.7446 0.2623 0.1667 0.0097 0.206  0.9204]]\n"
     ]
    }
   ],
   "source": [
    "with printoptions(precision=4, suppress=True):\n",
    "    print(m.probas.eval(feed_dict)[0, :10, :10, 0])"
   ]
  },
  {
   "cell_type": "code",
   "execution_count": 27,
   "metadata": {},
   "outputs": [
    {
     "data": {
      "text/plain": [
       "0.7759113"
      ]
     },
     "execution_count": 27,
     "metadata": {},
     "output_type": "execute_result"
    }
   ],
   "source": [
    "loss.eval(feed_dict)"
   ]
  },
  {
   "cell_type": "markdown",
   "metadata": {},
   "source": [
    "#### Gradient w.r.t. bias"
   ]
  },
  {
   "cell_type": "code",
   "execution_count": 28,
   "metadata": {},
   "outputs": [
    {
     "data": {
      "text/plain": [
       "[<tf.Variable 'scores/Variable:0' shape=(3, 3, 3, 3) dtype=float32_ref>,\n",
       " <tf.Variable 'scores/Variable_1:0' shape=(3,) dtype=float32_ref>]"
      ]
     },
     "execution_count": 28,
     "metadata": {},
     "output_type": "execute_result"
    }
   ],
   "source": [
    "tf.trainable_variables()"
   ]
  },
  {
   "cell_type": "code",
   "execution_count": 29,
   "metadata": {},
   "outputs": [
    {
     "data": {
      "text/plain": [
       "array([-0.04676518,  0.02505459,  0.02171059], dtype=float32)"
      ]
     },
     "execution_count": 29,
     "metadata": {},
     "output_type": "execute_result"
    }
   ],
   "source": [
    "tf.gradients(loss, tf.trainable_variables()[1])[0].eval(feed_dict)"
   ]
  },
  {
   "cell_type": "code",
   "execution_count": null,
   "metadata": {
    "collapsed": true
   },
   "outputs": [],
   "source": []
  },
  {
   "cell_type": "code",
   "execution_count": null,
   "metadata": {
    "collapsed": true
   },
   "outputs": [],
   "source": []
  }
 ],
 "metadata": {
  "anaconda-cloud": {},
  "kernelspec": {
   "display_name": "Python 3",
   "language": "python",
   "name": "python3"
  },
  "language_info": {
   "codemirror_mode": {
    "name": "ipython",
    "version": 3
   },
   "file_extension": ".py",
   "mimetype": "text/x-python",
   "name": "python",
   "nbconvert_exporter": "python",
   "pygments_lexer": "ipython3",
   "version": "3.6.6"
  }
 },
 "nbformat": 4,
 "nbformat_minor": 2
}
